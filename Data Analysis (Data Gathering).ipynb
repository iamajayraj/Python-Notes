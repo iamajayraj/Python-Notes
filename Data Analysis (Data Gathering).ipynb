{
 "cells": [
  {
   "cell_type": "markdown",
   "id": "c93b1a0c",
   "metadata": {},
   "source": [
    "## What is Data Analysis?\n",
    "Data analysis is a process of inspecting, cleansing, transforming and modeling data with the goal of discovering useful information, informing  conclusions and supporting decision-making."
   ]
  },
  {
   "cell_type": "markdown",
   "id": "4b90c1e9",
   "metadata": {},
   "source": [
    "## Process of Data Analysis"
   ]
  },
  {
   "cell_type": "markdown",
   "id": "edc2b5fd",
   "metadata": {},
   "source": [
    "#### Ask Questions -> Data Wrangling (Cleaning) -> Exploratory Data Analysis -> Drawing Conclusions -> Communicating Results"
   ]
  },
  {
   "cell_type": "markdown",
   "id": "aca99ef7",
   "metadata": {},
   "source": [
    "#### 1. Asking Questions"
   ]
  },
  {
   "cell_type": "raw",
   "id": "3d5f5b40",
   "metadata": {},
   "source": [
    "\n",
    "Q1. What features  will contribute to my analysis?\n",
    "Q2. What features are not important to my analysis?\n",
    "Q3. Which of the features have a strong correlation?\n",
    "Q4. Do I need data preprocessing?\n",
    "Q5. What kind of feature manipulation/engneering is required?\n"
   ]
  },
  {
   "cell_type": "markdown",
   "id": "fdef998f",
   "metadata": {},
   "source": [
    "#### 2. Data Wrangling (Cleaning)"
   ]
  },
  {
   "cell_type": "raw",
   "id": "4262b0e3",
   "metadata": {},
   "source": [
    "Data Wrangling or munging is the process of transforming and mapping data from one \"raw\" data form into anathor format with the intent of making it more appropriate and valueable for a variety of downstream  purposes such as analytics.\n",
    "\n",
    "2A. Gathering data\n",
    "    -CSV files \n",
    "    -API\n",
    "    -Web scrapping\n",
    "    -Databases\n",
    "    \n",
    "2B. Assesing Data\n",
    "    -Finding the number of rows and columns? (.shape)\n",
    "    -Data types of various columns? (.info())\n",
    "    -Checking for missing values? (.info())\n",
    "    -Checking for duplicate data? (.is_unique())\n",
    "    -Memory occupied by the data set? (.info())\n",
    "    -High level mathematical overview of the data? (.describe())\n",
    "    \n",
    "2C. Cleaning Data\n",
    "    -Missing data (by mean)\n",
    "    -Remove duplicate data(by drop_duplicates)\n",
    "    -Incorrect datatype(by as_type)"
   ]
  },
  {
   "cell_type": "markdown",
   "id": "9e781880",
   "metadata": {},
   "source": [
    "#### 3. Exploratory Data Analysis"
   ]
  },
  {
   "cell_type": "raw",
   "id": "22f16a0f",
   "metadata": {},
   "source": [
    "You just explore and augment dataset per your needs i.e. making changes as per your needs.\n",
    "\n",
    "3A. Explore data\n",
    "    -Finding covarience and correlation\n",
    "    -Doing univariate and multivariate analysis.\n",
    "    -Plotting graphs (data visualization)\n",
    "3B. Augmenting\n",
    "    -Removing Outliers.\n",
    "    -Merging data frames\n",
    "    -Adding new columnns.\n",
    "    \n",
    "These operations are called Feature Engneering."
   ]
  },
  {
   "cell_type": "markdown",
   "id": "154f1e3c",
   "metadata": {},
   "source": [
    "#### Drawing Conclusions"
   ]
  },
  {
   "cell_type": "raw",
   "id": "b85514e6",
   "metadata": {},
   "source": [
    "There are three major ways-\n",
    "    -Using machnine learning.\n",
    "    -Using descriptive statistics.\n",
    "    -Using inferential statistics."
   ]
  },
  {
   "cell_type": "markdown",
   "id": "ece12fe1",
   "metadata": {},
   "source": [
    "#### Communicating Results/ Data storytelling"
   ]
  },
  {
   "cell_type": "raw",
   "id": "5341a7f9",
   "metadata": {},
   "source": [
    "The various methods involve-\n",
    "    -In person\n",
    "    -Using ppts\n",
    "    -Using Graphs\n",
    "    -Using blogposts\n",
    "    -Using reports"
   ]
  },
  {
   "cell_type": "code",
   "execution_count": null,
   "id": "1f854652",
   "metadata": {},
   "outputs": [],
   "source": []
  }
 ],
 "metadata": {
  "kernelspec": {
   "display_name": "Python 3 (ipykernel)",
   "language": "python",
   "name": "python3"
  },
  "language_info": {
   "codemirror_mode": {
    "name": "ipython",
    "version": 3
   },
   "file_extension": ".py",
   "mimetype": "text/x-python",
   "name": "python",
   "nbconvert_exporter": "python",
   "pygments_lexer": "ipython3",
   "version": "3.9.13"
  }
 },
 "nbformat": 4,
 "nbformat_minor": 5
}
