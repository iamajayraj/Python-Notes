{
 "cells": [
  {
   "cell_type": "markdown",
   "id": "9b380912",
   "metadata": {},
   "source": [
    "def (name of function):\n",
    "     \n",
    "     \"\"\"a docstring that gives some information about the the working oof function\"\"\"\n",
    "     \n",
    "     BLOCK OF CODE\n",
    "     \n",
    "     \n",
    "     return (value,number,variable etc.)"
   ]
  },
  {
   "cell_type": "markdown",
   "id": "706d82bf",
   "metadata": {},
   "source": [
    "Parameters vs Arguments\n",
    "\n",
    "When we create a function we initialize the parameters of the functions.\n",
    "\n",
    "but \n",
    "\n",
    "When we call a function we give the arguments."
   ]
  },
  {
   "cell_type": "markdown",
   "id": "475b4c86",
   "metadata": {},
   "source": [
    "Types of arguments\n",
    "\n",
    "1. Default arguments\n",
    "2. Positional arguments\n",
    "3. Keyword arguments"
   ]
  },
  {
   "cell_type": "code",
   "execution_count": 1,
   "id": "4844b893",
   "metadata": {},
   "outputs": [],
   "source": [
    "#Default arguments\n",
    "def power(a=1,b=1):\n",
    "    return a**b"
   ]
  },
  {
   "cell_type": "markdown",
   "id": "f95883d4",
   "metadata": {},
   "source": [
    "The first value given to a functon goes to first parameter and second goes to second and so on. This is known as positional arguments."
   ]
  },
  {
   "cell_type": "markdown",
   "id": "c6056157",
   "metadata": {},
   "source": [
    "We can pass the arguments in a function by it name also, ffor eg power(b=3,a=2) will give 8. here 3 will go the second argument place and 2 will go the first argument place. This is keyword argument."
   ]
  },
  {
   "cell_type": "markdown",
   "id": "4cf36a6e",
   "metadata": {},
   "source": [
    "*args and **kwargs\n",
    "\n",
    "*args and **kwargs are special python keywords that are used to pass variable lenth of arguments."
   ]
  },
  {
   "cell_type": "markdown",
   "id": "12a93b1c",
   "metadata": {},
   "source": [
    "*args allow us to pass variable number of non keyword arguments.\n",
    "Internally it takes all the arguments and stores them inside a tuple and then allows us to iterate over it.\n"
   ]
  },
  {
   "cell_type": "code",
   "execution_count": 5,
   "id": "6d5d1924",
   "metadata": {},
   "outputs": [],
   "source": [
    "def num_prod(*nums):\n",
    "    prod=1\n",
    "    for i in nums:\n",
    "        prod=prod*i\n",
    "    print(nums)\n",
    "    return prod"
   ]
  },
  {
   "cell_type": "code",
   "execution_count": 6,
   "id": "1cdb0792",
   "metadata": {},
   "outputs": [
    {
     "name": "stdout",
     "output_type": "stream",
     "text": [
      "(1, 2, 3, 4, 5, 6)\n"
     ]
    },
    {
     "data": {
      "text/plain": [
       "720"
      ]
     },
     "execution_count": 6,
     "metadata": {},
     "output_type": "execute_result"
    }
   ],
   "source": [
    "num_prod(1,2,3,4,5,6)"
   ]
  },
  {
   "cell_type": "markdown",
   "id": "dd457298",
   "metadata": {},
   "source": [
    "**kwargs allows us to pass any number of keyword arguments(key value pair).\n",
    "for any other arguments use *args"
   ]
  },
  {
   "cell_type": "code",
   "execution_count": 7,
   "id": "8bf014a2",
   "metadata": {},
   "outputs": [],
   "source": [
    "def caps(**country):\n",
    "    print(country)"
   ]
  },
  {
   "cell_type": "code",
   "execution_count": 13,
   "id": "90ab6794",
   "metadata": {},
   "outputs": [
    {
     "name": "stdout",
     "output_type": "stream",
     "text": [
      "{'india': 'delhi', 'raj': 'jaipur'}\n"
     ]
    }
   ],
   "source": [
    "caps(india='delhi',raj='jaipur')"
   ]
  },
  {
   "cell_type": "markdown",
   "id": "c61a252b",
   "metadata": {},
   "source": [
    "A function containing normal arguments,*args  and **kwargs then the following order must be followed.\n",
    "(normal,*args,**kwargs)"
   ]
  },
  {
   "cell_type": "markdown",
   "id": "b38cc835",
   "metadata": {},
   "source": [
    "# Global vs local variable"
   ]
  },
  {
   "cell_type": "markdown",
   "id": "2005dfb1",
   "metadata": {},
   "source": [
    "In a program, if a variable is declared inside the main program then it is called global  variable.\n",
    "If a variable is declared inside a function then it is called a local variable.\n",
    "\n",
    "IMPORTANT- A GLOBAL VARIABLE CAN BE ACCESSED INSIDE A LOCAL VARIABLE BUT A LOCAL VARIABLE CAN NOT BE ACCESED OUT SIDE THE FUNCTION. IT CAN ONLY USE BUT IT CANT MAKE ANY CHANGES (REFER EX 3)"
   ]
  },
  {
   "cell_type": "code",
   "execution_count": 14,
   "id": "bbc3688c",
   "metadata": {},
   "outputs": [
    {
     "name": "stdout",
     "output_type": "stream",
     "text": [
      "5\n",
      "6\n",
      "5\n"
     ]
    }
   ],
   "source": [
    "def g(y):\n",
    "    print(x)\n",
    "    print(x+1)\n",
    "x=5\n",
    "g(x)\n",
    "print(x)"
   ]
  },
  {
   "cell_type": "code",
   "execution_count": 15,
   "id": "e9c85e55",
   "metadata": {},
   "outputs": [
    {
     "name": "stdout",
     "output_type": "stream",
     "text": [
      "2\n",
      "5\n"
     ]
    }
   ],
   "source": [
    "def f(y):\n",
    "    x=1\n",
    "    x+=1\n",
    "    print(x)\n",
    "x=5\n",
    "f(x)\n",
    "print(x)"
   ]
  },
  {
   "cell_type": "code",
   "execution_count": 16,
   "id": "9378213f",
   "metadata": {},
   "outputs": [
    {
     "ename": "UnboundLocalError",
     "evalue": "local variable 'x' referenced before assignment",
     "output_type": "error",
     "traceback": [
      "\u001b[1;31m---------------------------------------------------------------------------\u001b[0m",
      "\u001b[1;31mUnboundLocalError\u001b[0m                         Traceback (most recent call last)",
      "\u001b[1;32m~\\AppData\\Local\\Temp\\ipykernel_30644\\3211324729.py\u001b[0m in \u001b[0;36m<module>\u001b[1;34m\u001b[0m\n\u001b[0;32m      2\u001b[0m     \u001b[0mx\u001b[0m\u001b[1;33m+=\u001b[0m\u001b[1;36m1\u001b[0m\u001b[1;33m\u001b[0m\u001b[1;33m\u001b[0m\u001b[0m\n\u001b[0;32m      3\u001b[0m \u001b[0mx\u001b[0m\u001b[1;33m=\u001b[0m\u001b[1;36m5\u001b[0m\u001b[1;33m\u001b[0m\u001b[1;33m\u001b[0m\u001b[0m\n\u001b[1;32m----> 4\u001b[1;33m \u001b[0mh\u001b[0m\u001b[1;33m(\u001b[0m\u001b[0mx\u001b[0m\u001b[1;33m)\u001b[0m\u001b[1;33m\u001b[0m\u001b[1;33m\u001b[0m\u001b[0m\n\u001b[0m\u001b[0;32m      5\u001b[0m \u001b[0mprint\u001b[0m\u001b[1;33m(\u001b[0m\u001b[0mx\u001b[0m\u001b[1;33m)\u001b[0m\u001b[1;33m\u001b[0m\u001b[1;33m\u001b[0m\u001b[0m\n",
      "\u001b[1;32m~\\AppData\\Local\\Temp\\ipykernel_30644\\3211324729.py\u001b[0m in \u001b[0;36mh\u001b[1;34m(y)\u001b[0m\n\u001b[0;32m      1\u001b[0m \u001b[1;32mdef\u001b[0m \u001b[0mh\u001b[0m\u001b[1;33m(\u001b[0m\u001b[0my\u001b[0m\u001b[1;33m)\u001b[0m\u001b[1;33m:\u001b[0m\u001b[1;33m\u001b[0m\u001b[1;33m\u001b[0m\u001b[0m\n\u001b[1;32m----> 2\u001b[1;33m     \u001b[0mx\u001b[0m\u001b[1;33m+=\u001b[0m\u001b[1;36m1\u001b[0m\u001b[1;33m\u001b[0m\u001b[1;33m\u001b[0m\u001b[0m\n\u001b[0m\u001b[0;32m      3\u001b[0m \u001b[0mx\u001b[0m\u001b[1;33m=\u001b[0m\u001b[1;36m5\u001b[0m\u001b[1;33m\u001b[0m\u001b[1;33m\u001b[0m\u001b[0m\n\u001b[0;32m      4\u001b[0m \u001b[0mh\u001b[0m\u001b[1;33m(\u001b[0m\u001b[0mx\u001b[0m\u001b[1;33m)\u001b[0m\u001b[1;33m\u001b[0m\u001b[1;33m\u001b[0m\u001b[0m\n\u001b[0;32m      5\u001b[0m \u001b[0mprint\u001b[0m\u001b[1;33m(\u001b[0m\u001b[0mx\u001b[0m\u001b[1;33m)\u001b[0m\u001b[1;33m\u001b[0m\u001b[1;33m\u001b[0m\u001b[0m\n",
      "\u001b[1;31mUnboundLocalError\u001b[0m: local variable 'x' referenced before assignment"
     ]
    }
   ],
   "source": [
    "def h(y):\n",
    "    x+=1\n",
    "x=5\n",
    "h(x)\n",
    "print(x)"
   ]
  },
  {
   "cell_type": "markdown",
   "id": "d560ee29",
   "metadata": {},
   "source": [
    "# NESTED FUNCTIONS"
   ]
  },
  {
   "cell_type": "code",
   "execution_count": 21,
   "id": "3743ee4d",
   "metadata": {},
   "outputs": [
    {
     "name": "stdout",
     "output_type": "stream",
     "text": [
      "i am inside a\n",
      " i am inside b\n"
     ]
    }
   ],
   "source": [
    "def a():\n",
    "    print('i am inside a')\n",
    "    def b():\n",
    "        print(' i am inside b')\n",
    "    b()\n",
    "a()"
   ]
  },
  {
   "cell_type": "code",
   "execution_count": 24,
   "id": "1b1205f0",
   "metadata": {},
   "outputs": [
    {
     "name": "stdout",
     "output_type": "stream",
     "text": [
      "in g(x): x= 4\n"
     ]
    }
   ],
   "source": [
    "def g(x):\n",
    "    def h():\n",
    "        x='abc'\n",
    "    x=x+1\n",
    "    print('in g(x): x=',x)\n",
    "    h()\n",
    "    return x\n",
    "x=3\n",
    "z=g(x)"
   ]
  },
  {
   "cell_type": "markdown",
   "id": "aeb6e40a",
   "metadata": {},
   "source": [
    "# Functions in python acts as first class citizens."
   ]
  },
  {
   "cell_type": "code",
   "execution_count": 4,
   "id": "b69d5239",
   "metadata": {},
   "outputs": [],
   "source": [
    "#type and id\n",
    "def sq(num):\n",
    "    return num**2\n",
    "a=5"
   ]
  },
  {
   "cell_type": "code",
   "execution_count": 7,
   "id": "a2004ea3",
   "metadata": {},
   "outputs": [
    {
     "name": "stdout",
     "output_type": "stream",
     "text": [
      "<class 'function'>\n",
      "<class 'int'>\n"
     ]
    }
   ],
   "source": [
    "print(type(sq))\n",
    "print(type(a))"
   ]
  },
  {
   "cell_type": "code",
   "execution_count": 8,
   "id": "a1b6df3f",
   "metadata": {},
   "outputs": [
    {
     "data": {
      "text/plain": [
       "2726080901760"
      ]
     },
     "execution_count": 8,
     "metadata": {},
     "output_type": "execute_result"
    }
   ],
   "source": [
    "id(sq)"
   ]
  },
  {
   "cell_type": "code",
   "execution_count": 9,
   "id": "2e786df4",
   "metadata": {},
   "outputs": [
    {
     "data": {
      "text/plain": [
       "2725997341104"
      ]
     },
     "execution_count": 9,
     "metadata": {},
     "output_type": "execute_result"
    }
   ],
   "source": [
    "id(a)"
   ]
  },
  {
   "cell_type": "code",
   "execution_count": 10,
   "id": "1133cb94",
   "metadata": {},
   "outputs": [],
   "source": [
    "#reassign- we can assign a function.\n",
    "s=sq"
   ]
  },
  {
   "cell_type": "code",
   "execution_count": 11,
   "id": "b961db72",
   "metadata": {},
   "outputs": [
    {
     "data": {
      "text/plain": [
       "9"
      ]
     },
     "execution_count": 11,
     "metadata": {},
     "output_type": "execute_result"
    }
   ],
   "source": [
    "s(3)"
   ]
  },
  {
   "cell_type": "code",
   "execution_count": 12,
   "id": "24f2c3fb",
   "metadata": {},
   "outputs": [
    {
     "data": {
      "text/plain": [
       "2726080901760"
      ]
     },
     "execution_count": 12,
     "metadata": {},
     "output_type": "execute_result"
    }
   ],
   "source": [
    "id(s)"
   ]
  },
  {
   "cell_type": "code",
   "execution_count": 13,
   "id": "c14e7bd8",
   "metadata": {},
   "outputs": [],
   "source": [
    "#A function can be deleted using del keyword"
   ]
  },
  {
   "cell_type": "code",
   "execution_count": 15,
   "id": "b512d824",
   "metadata": {},
   "outputs": [],
   "source": [
    "#A function can be stored inside anathor data type like list,tuple etc.\n",
    "\n",
    "l1=[1,2,3,4,5,s]"
   ]
  },
  {
   "cell_type": "code",
   "execution_count": 16,
   "id": "05f858df",
   "metadata": {},
   "outputs": [
    {
     "data": {
      "text/plain": [
       "[1, 2, 3, 4, 5, <function __main__.sq(num)>]"
      ]
     },
     "execution_count": 16,
     "metadata": {},
     "output_type": "execute_result"
    }
   ],
   "source": [
    "l1 "
   ]
  },
  {
   "cell_type": "code",
   "execution_count": 17,
   "id": "2fe937b6",
   "metadata": {},
   "outputs": [
    {
     "data": {
      "text/plain": [
       "25"
      ]
     },
     "execution_count": 17,
     "metadata": {},
     "output_type": "execute_result"
    }
   ],
   "source": [
    "l1[-1](5)"
   ]
  },
  {
   "cell_type": "code",
   "execution_count": 20,
   "id": "fa8aea74",
   "metadata": {},
   "outputs": [
    {
     "name": "stdout",
     "output_type": "stream",
     "text": [
      "7\n"
     ]
    }
   ],
   "source": [
    "#returning a function\n",
    "def f():\n",
    "    def x(a,b):\n",
    "        return a+b\n",
    "    return x\n",
    "val=f()(3,4)\n",
    "print(val)"
   ]
  },
  {
   "cell_type": "code",
   "execution_count": 22,
   "id": "6494c0cf",
   "metadata": {},
   "outputs": [
    {
     "name": "stdout",
     "output_type": "stream",
     "text": [
      "inside function b\n",
      "inside function a\n",
      "None\n"
     ]
    }
   ],
   "source": [
    "#functions as an argument\n",
    "def func_a():\n",
    "    print(\"inside function a\")\n",
    "def func_b(z):\n",
    "    print(\"inside function b\")\n",
    "    return z()\n",
    "print(func_b(func_a))\n",
    "    "
   ]
  },
  {
   "cell_type": "markdown",
   "id": "8e992de8",
   "metadata": {},
   "source": [
    "# Lambda Function\n",
    "A Lambda function is a small anonymous function which can take any number of argments and returns only one expression."
   ]
  },
  {
   "cell_type": "code",
   "execution_count": 23,
   "id": "b3d493fc",
   "metadata": {},
   "outputs": [],
   "source": [
    "a=lambda x: x**2"
   ]
  },
  {
   "cell_type": "code",
   "execution_count": 24,
   "id": "55111459",
   "metadata": {},
   "outputs": [
    {
     "data": {
      "text/plain": [
       "9"
      ]
     },
     "execution_count": 24,
     "metadata": {},
     "output_type": "execute_result"
    }
   ],
   "source": [
    "a(3)"
   ]
  },
  {
   "cell_type": "code",
   "execution_count": 25,
   "id": "66b5fec7",
   "metadata": {},
   "outputs": [],
   "source": [
    "b=lambda s: 'a' in s"
   ]
  },
  {
   "cell_type": "code",
   "execution_count": 28,
   "id": "008cc039",
   "metadata": {},
   "outputs": [
    {
     "data": {
      "text/plain": [
       "True"
      ]
     },
     "execution_count": 28,
     "metadata": {},
     "output_type": "execute_result"
    }
   ],
   "source": [
    "b('ajay')"
   ]
  },
  {
   "cell_type": "markdown",
   "id": "4d03422d",
   "metadata": {},
   "source": [
    "Difference between lambda and normal function\n",
    "\n",
    "1. NO NAME\n",
    "2. Lambda function has no return value.\n",
    "3. Lambda is written in one line\n",
    "4. Not reusable"
   ]
  },
  {
   "cell_type": "markdown",
   "id": "184588af",
   "metadata": {},
   "source": [
    "Use of lambda function?\n",
    "They are used with higher order functions"
   ]
  },
  {
   "cell_type": "markdown",
   "id": "19437465",
   "metadata": {},
   "source": [
    "# Higher order functions"
   ]
  },
  {
   "cell_type": "markdown",
   "id": "0a02967d",
   "metadata": {},
   "source": [
    "A function that recives a function as an input or a function that gives another function as a return. "
   ]
  },
  {
   "cell_type": "code",
   "execution_count": 33,
   "id": "7e289c92",
   "metadata": {},
   "outputs": [
    {
     "name": "stdout",
     "output_type": "stream",
     "text": [
      "[1, 8, 27, 64, 125]\n"
     ]
    }
   ],
   "source": [
    "def square(x):\n",
    "    return x**3\n",
    "\n",
    "def transform(l1,f):\n",
    "    res=[]\n",
    "    for i in l1:\n",
    "        res.append(f(i))\n",
    "    print(res)\n",
    "\n",
    "list1=[1,2,3,4,5]\n",
    "transform(list1,square)\n",
    "        "
   ]
  },
  {
   "cell_type": "code",
   "execution_count": 34,
   "id": "55e53066",
   "metadata": {},
   "outputs": [
    {
     "name": "stdout",
     "output_type": "stream",
     "text": [
      "[1, 4, 9, 16, 25]\n"
     ]
    }
   ],
   "source": [
    "def transform(l1,f):\n",
    "    res=[]\n",
    "    for i in l1:\n",
    "        res.append(f(i))\n",
    "    print(res)\n",
    "\n",
    "list1=[1,2,3,4,5]\n",
    "transform(list1,lambda x:x**2)"
   ]
  },
  {
   "cell_type": "markdown",
   "id": "9a2b8db9",
   "metadata": {},
   "source": [
    "# MAP\n",
    "Map expects two items, a lambda function and a iterable data type."
   ]
  },
  {
   "cell_type": "code",
   "execution_count": 35,
   "id": "19ac14e3",
   "metadata": {},
   "outputs": [
    {
     "data": {
      "text/plain": [
       "<map at 0x27ab985f670>"
      ]
     },
     "execution_count": 35,
     "metadata": {},
     "output_type": "execute_result"
    }
   ],
   "source": [
    "map(lambda x:x**2,[1,2,3,4,5])"
   ]
  },
  {
   "cell_type": "code",
   "execution_count": 36,
   "id": "0565fd1e",
   "metadata": {},
   "outputs": [
    {
     "data": {
      "text/plain": [
       "[1, 4, 9, 16, 25]"
      ]
     },
     "execution_count": 36,
     "metadata": {},
     "output_type": "execute_result"
    }
   ],
   "source": [
    "list(map(lambda x:x**2,[1,2,3,4,5]))"
   ]
  },
  {
   "cell_type": "code",
   "execution_count": 37,
   "id": "9cbf8489",
   "metadata": {},
   "outputs": [
    {
     "data": {
      "text/plain": [
       "['Odd', 'Even', 'Odd', 'Even', 'Odd', 'Even']"
      ]
     },
     "execution_count": 37,
     "metadata": {},
     "output_type": "execute_result"
    }
   ],
   "source": [
    "list(map(lambda x:'Even' if x%2==0 else 'Odd',[1,2,3,4,5,6]))"
   ]
  },
  {
   "cell_type": "markdown",
   "id": "74abb1f7",
   "metadata": {},
   "source": [
    "# FILTER\n",
    "Filter expects two items, a lambda function and a iterable data type."
   ]
  },
  {
   "cell_type": "code",
   "execution_count": 41,
   "id": "610f7f80",
   "metadata": {},
   "outputs": [
    {
     "data": {
      "text/plain": [
       "[6, 7, 8, 9]"
      ]
     },
     "execution_count": 41,
     "metadata": {},
     "output_type": "execute_result"
    }
   ],
   "source": [
    "list(filter(lambda x:x>5,[1,2,3,4,5,6,7,8,9]))"
   ]
  },
  {
   "cell_type": "code",
   "execution_count": 42,
   "id": "b1262058",
   "metadata": {},
   "outputs": [
    {
     "data": {
      "text/plain": [
       "['apple']"
      ]
     },
     "execution_count": 42,
     "metadata": {},
     "output_type": "execute_result"
    }
   ],
   "source": [
    "list(filter(lambda x:x.startswith('a'),['apple','bananna','pineapple']))"
   ]
  },
  {
   "cell_type": "markdown",
   "id": "3f0f36e7",
   "metadata": {},
   "source": [
    "# REDUCE\n",
    "It is available in a module named functools so we need to import that module.\n",
    "Reduce expects two items, a lambda function and a iterable data type."
   ]
  },
  {
   "cell_type": "code",
   "execution_count": 43,
   "id": "cae8ec45",
   "metadata": {},
   "outputs": [],
   "source": [
    "import functools"
   ]
  },
  {
   "cell_type": "code",
   "execution_count": 44,
   "id": "0c0be819",
   "metadata": {},
   "outputs": [
    {
     "data": {
      "text/plain": [
       "21"
      ]
     },
     "execution_count": 44,
     "metadata": {},
     "output_type": "execute_result"
    }
   ],
   "source": [
    "functools.reduce(lambda x,y:x+y,[1,2,3,4,5,6])"
   ]
  },
  {
   "cell_type": "code",
   "execution_count": 45,
   "id": "b672f54d",
   "metadata": {},
   "outputs": [
    {
     "data": {
      "text/plain": [
       "1"
      ]
     },
     "execution_count": 45,
     "metadata": {},
     "output_type": "execute_result"
    }
   ],
   "source": [
    "functools.reduce(lambda x,y:x if x<y else y,[1,2,3,4,5,6,7,8,9])"
   ]
  },
  {
   "cell_type": "code",
   "execution_count": null,
   "id": "7076a279",
   "metadata": {},
   "outputs": [],
   "source": []
  }
 ],
 "metadata": {
  "kernelspec": {
   "display_name": "Python 3 (ipykernel)",
   "language": "python",
   "name": "python3"
  },
  "language_info": {
   "codemirror_mode": {
    "name": "ipython",
    "version": 3
   },
   "file_extension": ".py",
   "mimetype": "text/x-python",
   "name": "python",
   "nbconvert_exporter": "python",
   "pygments_lexer": "ipython3",
   "version": "3.9.13"
  }
 },
 "nbformat": 4,
 "nbformat_minor": 5
}
